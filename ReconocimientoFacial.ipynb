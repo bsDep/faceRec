{
 "cells": [
  {
   "cell_type": "code",
   "execution_count": 23,
   "metadata": {},
   "outputs": [
    {
     "name": "stdout",
     "output_type": "stream",
     "text": [
      "imagePaths= ['15595919', '3', 'Jorge']\n"
     ]
    }
   ],
   "source": [
    "import cv2\n",
    "import os\n",
    "import time\n",
    "import pandas as pd\n",
    "import pyodbc\n",
    "import datetime\n",
    "import json\n",
    "\n",
    "dataPath = 'C:/Users/user/Desktop/Reconocimiento Facial/Data' #Cambia a la ruta donde hayas almacenado Data\n",
    "imagePaths = os.listdir(dataPath)\n",
    "print('imagePaths=',imagePaths)\n",
    "\n",
    "#face_recognizer = cv2.face.EigenFaceRecognizer_create()\n",
    "#face_recognizer = cv2.face.FisherFaceRecognizer_create()\n",
    "face_recognizer = cv2.face.LBPHFaceRecognizer_create()\n",
    "\n",
    "# Leyendo el modelo\n",
    "#face_recognizer.read('modeloEigenFace.xml')\n",
    "#face_recognizer.read('modeloFisherFace.xml')\n",
    "face_recognizer.read(dataPath + 'modeloLBPHFace.xml')\n",
    "\n",
    "cap = cv2.VideoCapture(0,cv2.CAP_DSHOW)\n",
    "#cap = cv2.VideoCapture('Video.mp4')\n",
    "\n",
    "faceClassif = cv2.CascadeClassifier(cv2.data.haarcascades+'haarcascade_frontalface_default.xml')\n",
    "\n",
    "# Try connect\n",
    "cred =  open('cred.json',)\n",
    "credentials = json.load(cred)\n",
    "server = credentials['raiz']['server']\n",
    "database = credentials['raiz']['database']\n",
    "username = credentials['raiz']['username']\n",
    "password = credentials['raiz']['password']\n",
    "driver= '{ODBC Driver 17 for SQL Server}'\n",
    "table_name = 'RegistroAsistencia'\n",
    "\n",
    "cnxn = pyodbc.connect('DRIVER='+driver+';PORT=1433;SERVER='+server+';PORT=1443;DATABASE='+database+';UID='+username+';PWD='+ password)\n",
    "cursor = cnxn.cursor()\n",
    "\n",
    "registro = {'id_empleado': [], 'entrada':[]}\n",
    "\n",
    "while True:\n",
    "\tret,frame = cap.read()\n",
    "\tif ret == False: break\n",
    "\tgray = cv2.cvtColor(frame, cv2.COLOR_BGR2GRAY)\n",
    "\tauxFrame = gray.copy()\n",
    "\n",
    "\tfaces = faceClassif.detectMultiScale(gray,1.3,5)\n",
    "\n",
    "\tfor (x,y,w,h) in faces:\n",
    "\t\trostro = auxFrame[y:y+h,x:x+w]\n",
    "\t\trostro = cv2.resize(rostro,(150,150),interpolation= cv2.INTER_CUBIC)\n",
    "\t\tresult = face_recognizer.predict(rostro)\n",
    "\n",
    "\t\tcv2.putText(frame,'{}'.format(result),(x,y-5),1,1.3,(255,255,0),1,cv2.LINE_AA)\n",
    "\t\t'''\n",
    "\t\t# EigenFaces\n",
    "\t\tif result[1] < 5700:\n",
    "\t\t\tcv2.putText(frame,'{}'.format(imagePaths[result[0]]),(x,y-25),2,1.1,(0,255,0),1,cv2.LINE_AA)\n",
    "\t\t\tcv2.rectangle(frame, (x,y),(x+w,y+h),(0,255,0),2)\n",
    "\t\telse:\n",
    "\t\t\tcv2.putText(frame,'Desconocido',(x,y-20),2,0.8,(0,0,255),1,cv2.LINE_AA)\n",
    "\t\t\tcv2.rectangle(frame, (x,y),(x+w,y+h),(0,0,255),2)\n",
    "\t\t\n",
    "\t\t# FisherFace\n",
    "\t\tif result[1] < 500:\n",
    "\t\t\tcv2.putText(frame,'{}'.format(imagePaths[result[0]]),(x,y-25),2,1.1,(0,255,0),1,cv2.LINE_AA)\n",
    "\t\t\tcv2.rectangle(frame, (x,y),(x+w,y+h),(0,255,0),2)\n",
    "\t\telse:\n",
    "\t\t\tcv2.putText(frame,'Desconocido',(x,y-20),2,0.8,(0,0,255),1,cv2.LINE_AA)\n",
    "\t\t\tcv2.rectangle(frame, (x,y),(x+w,y+h),(0,0,255),2)\n",
    "\t\t'''\n",
    "\n",
    "\t\t# LBPHFace\n",
    "\t\tif result[1] < 75 :\n",
    "\t\t\tcv2.putText(frame,'{}'.format(imagePaths[result[0]]),(x,y-25),2,1.1,(0,255,0),1,cv2.LINE_AA)\n",
    "\t\t\tcv2.rectangle(frame, (x,y),(x+w,y+h),(0,255,0),2)\n",
    "\t\t\t\n",
    "\t\t\tlabel = imagePaths[result[0]]\n",
    "\t\t\tif label in registro['id_empleado']:\n",
    "\t\t\t\tpass\n",
    "\t\t\telse:\n",
    "\t\t\t\tregistro['id_empleado'].append(label)\n",
    "\t\t\t\tregistro['entrada'].append(datetime.datetime.now())\n",
    "\t\t\t\tdfasis = pd.DataFrame.from_dict(registro)\n",
    "\t\t\t\tdfasis['entrada'] = pd.to_datetime(dfasis['entrada'])\n",
    "\t\t\t\t# Insert Dataframe into SQL Server:\n",
    "\t\t\t\tfor index, row in dfasis.iterrows():\n",
    "\t\t\t\t\tcursor.execute(\"INSERT INTO dbo.RegistroAsistencia (id_empleado,entrada) values(?,?)\", row.id_empleado, row.entrada)\n",
    "\t\t\t\tcnxn.commit()\n",
    "\t\t\t\ttime.sleep(5)\n",
    "\t\telse:\n",
    "\t\t\tcv2.putText(frame,'Desconocido',(x,y-20),2,0.8,(0,0,255),1,cv2.LINE_AA)\n",
    "\t\t\tcv2.rectangle(frame, (x,y),(x+w,y+h),(0,0,255),2)\n",
    "\n",
    "\tcv2.imshow('frame',frame)\n",
    "\tk = cv2.waitKey(30)\n",
    "\tif  k & 0xff == ord('q'):\n",
    "\t\tcursor.close()\n",
    "\t\tbreak\n",
    "\n",
    "cap.release()\n",
    "cv2.destroyAllWindows()"
   ]
  },
  {
   "cell_type": "code",
   "execution_count": 16,
   "metadata": {},
   "outputs": [
    {
     "data": {
      "text/plain": [
       "['15595919', 'Jorge', 'Mizra']"
      ]
     },
     "execution_count": 16,
     "metadata": {},
     "output_type": "execute_result"
    }
   ],
   "source": [
    "imagePaths"
   ]
  }
 ],
 "metadata": {
  "kernelspec": {
   "display_name": "Python 3",
   "language": "python",
   "name": "python3"
  },
  "language_info": {
   "codemirror_mode": {
    "name": "ipython",
    "version": 3
   },
   "file_extension": ".py",
   "mimetype": "text/x-python",
   "name": "python",
   "nbconvert_exporter": "python",
   "pygments_lexer": "ipython3",
   "version": "3.10.0"
  },
  "orig_nbformat": 4,
  "vscode": {
   "interpreter": {
    "hash": "fb4569285eef3a3450cb62085a5b1e0da4bce0af555edc33dcf29baf3acc1368"
   }
  }
 },
 "nbformat": 4,
 "nbformat_minor": 2
}
