{
 "cells": [
  {
   "cell_type": "code",
   "execution_count": 11,
   "metadata": {},
   "outputs": [
    {
     "name": "stdout",
     "output_type": "stream",
     "text": [
      "imagePaths= ['Jorge', 'Jose']\n"
     ]
    }
   ],
   "source": [
    "import cv2\n",
    "import os\n",
    "import winsound\n",
    "import gtts\n",
    "from playsound import playsound\n",
    "\n",
    "a = 0\n",
    "duration = 1000  # milliseconds\n",
    "freq = 440  # Hz\n",
    "dataPath = 'C:/Users/user/Desktop/Reconocimiento Facial/Data' #Cambia a la ruta donde hayas almacenado Data\n",
    "imagePaths = os.listdir(dataPath)\n",
    "print('imagePaths=',imagePaths)\n",
    "\n",
    "#face_recognizer = cv2.face.EigenFaceRecognizer_create()\n",
    "#face_recognizer = cv2.face.FisherFaceRecognizer_create()\n",
    "face_recognizer = cv2.face.LBPHFaceRecognizer_create()\n",
    "\n",
    "# Leyendo el modelo\n",
    "#face_recognizer.read(dataPath + 'modeloEigenFace.xml')\n",
    "#face_recognizer.read( dataPath + 'modeloFisherFace.xml')\n",
    "face_recognizer.read( dataPath + 'modeloLBPHFace.xml')\n",
    "\n",
    "cap = cv2.VideoCapture(0,cv2.CAP_DSHOW)\n",
    "#cap = cv2.VideoCapture('Video.mp4')\n",
    "\n",
    "faceClassif = cv2.CascadeClassifier(cv2.data.haarcascades+'haarcascade_frontalface_default.xml')\n",
    "\n",
    "while True:\n",
    "\tret,frame = cap.read()\n",
    "\tif ret == False: break\n",
    "\tgray = cv2.cvtColor(frame, cv2.COLOR_BGR2GRAY)\n",
    "\tauxFrame = gray.copy()\n",
    "\n",
    "\tfaces = faceClassif.detectMultiScale(gray,1.3,5)\n",
    "\n",
    "\tfor (x,y,w,h) in faces:\n",
    "\t\trostro = auxFrame[y:y+h,x:x+w]\n",
    "\t\trostro = cv2.resize(rostro,(150,150),interpolation= cv2.INTER_CUBIC)\n",
    "\t\t#Almacenar result 0\n",
    "\t\tresult = face_recognizer.predict(rostro)\n",
    "\n",
    "\t\tcv2.putText(frame,'{}'.format(result),(x,y-5),1,1.3,(255,255,0),1,cv2.LINE_AA)\n",
    "\t\t'''\n",
    "\t\t# EigenFaces\n",
    "\t\t#\n",
    "\t\tif result[1] < 5700:\n",
    "\t\t\tcv2.putText(frame,'{}'.format(imagePaths[result[0]]),(x,y-25),2,1.1,(0,255,0),1,cv2.LINE_AA)\n",
    "\t\t\tcv2.rectangle(frame, (x,y),(x+w,y+h),(0,255,0),2)\n",
    "\t\telse:\n",
    "\t\t\tcv2.putText(frame,'Desconocido',(x,y-20),2,0.8,(0,0,255),1,cv2.LINE_AA)\n",
    "\t\t\tcv2.rectangle(frame, (x,y),(x+w,y+h),(0,0,255),2)\n",
    "\t\t\n",
    "\t\t# FisherFace\n",
    "\t\tif result[1] < 500:\n",
    "\t\t\tcv2.putText(frame,'{}'.format(imagePaths[result[0]]),(x,y-25),2,1.1,(0,255,0),1,cv2.LINE_AA)\n",
    "\t\t\tcv2.rectangle(frame, (x,y),(x+w,y+h),(0,255,0),2)\n",
    "\t\telse:\n",
    "\t\t\tcv2.putText(frame,'Desconocido',(x,y-20),2,0.8,(0,0,255),1,cv2.LINE_AA)\n",
    "\t\t\tcv2.rectangle(frame, (x,y),(x+w,y+h),(0,0,255),2)\n",
    "\t\t'''\n",
    "\t\t# LBPHFace\n",
    "\t\tif result[1] < 70:\n",
    "\t\t\t# cv2.putText(frame,'{}'.format(imagePaths[result[0]]),(x,y-25),2,1.1,(0,255,0),1,cv2.LINE_AA)\n",
    "\t\t\t# cv2.rectangle(frame, (x,y),(x+w,y+h),(0,255,0),2)\n",
    "\t\t\tcv2.putText(frame,'{}'.format(imagePaths[result[0]]),(x,y-25),2,1.1,(0,255,0),1,cv2.LINE_AA)\n",
    "\t\t\tcv2.rectangle(frame, (x,y),(x+w,y+h),(0,255,0),2)\n",
    "\t\t\twinsound.Beep(freq, duration)\n",
    "\t\t\tplaysound(dataPath + \"hola.mp3\")\n",
    "\t\t\ta = 1\n",
    "\t\telse:\n",
    "\t\t\tcv2.putText(frame,'Desconocido',(x,y-20),2,0.8,(0,0,255),1,cv2.LINE_AA)\n",
    "\t\t\tcv2.rectangle(frame, (x,y),(x+w,y+h),(0,0,255),2)\n",
    "\tcv2.imshow('frame',frame)\n",
    "\tk = cv2.waitKey(1)\n",
    "\t#if k == 27:\n",
    "\tif a == 1:\n",
    "\t\tbreak\n",
    "cap.release()\n",
    "cv2.destroyAllWindows()\n",
    "     "
   ]
  },
  {
   "cell_type": "code",
   "execution_count": 8,
   "metadata": {},
   "outputs": [
    {
     "data": {
      "text/plain": [
       "(1, 69.95035587193344)"
      ]
     },
     "execution_count": 8,
     "metadata": {},
     "output_type": "execute_result"
    }
   ],
   "source": [
    "result"
   ]
  },
  {
   "cell_type": "code",
   "execution_count": null,
   "metadata": {},
   "outputs": [],
   "source": []
  }
 ],
 "metadata": {
  "kernelspec": {
   "display_name": "Python 3",
   "language": "python",
   "name": "python3"
  },
  "language_info": {
   "codemirror_mode": {
    "name": "ipython",
    "version": 3
   },
   "file_extension": ".py",
   "mimetype": "text/x-python",
   "name": "python",
   "nbconvert_exporter": "python",
   "pygments_lexer": "ipython3",
   "version": "3.10.0"
  },
  "orig_nbformat": 4,
  "vscode": {
   "interpreter": {
    "hash": "fb4569285eef3a3450cb62085a5b1e0da4bce0af555edc33dcf29baf3acc1368"
   }
  }
 },
 "nbformat": 4,
 "nbformat_minor": 2
}
